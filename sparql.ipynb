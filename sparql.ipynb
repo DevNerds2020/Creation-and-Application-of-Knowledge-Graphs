{
 "cells": [
  {
   "cell_type": "code",
   "execution_count": 1,
   "metadata": {},
   "outputs": [],
   "source": [
    "from SPARQLWrapper import SPARQLWrapper, JSON"
   ]
  },
  {
   "cell_type": "code",
   "execution_count": 5,
   "metadata": {},
   "outputs": [
    {
     "name": "stdout",
     "output_type": "stream",
     "text": [
      "{'a': {'type': 'uri', 'value': 'http://resource.geosciml.org/classifier/ics/ischart/Aalenian'}}\n",
      "{'a': {'type': 'uri', 'value': 'http://resource.geosciml.org/classifier/ics/ischart/Aeronian'}}\n",
      "{'a': {'type': 'uri', 'value': 'http://resource.geosciml.org/classifier/ics/ischart/Albian'}}\n",
      "{'a': {'type': 'uri', 'value': 'http://resource.geosciml.org/classifier/ics/ischart/Anisian'}}\n",
      "{'a': {'type': 'uri', 'value': 'http://resource.geosciml.org/classifier/ics/ischart/Aptian'}}\n"
     ]
    }
   ],
   "source": [
    "\n",
    "sparql = SPARQLWrapper(\n",
    "    \"http://vocabs.ardc.edu.au/repository/api/sparql/\"\n",
    "    \"csiro_international-chronostratigraphic-chart_geologic-time-scale-2020\"\n",
    ")\n",
    "sparql.setReturnFormat(JSON)\n",
    "\n",
    "# gets the first 3 geological ages\n",
    "# from a Geological Timescale database,\n",
    "# via a SPARQL endpoint\n",
    "sparql.setQuery(\"\"\"\n",
    "    PREFIX gts: <http://resource.geosciml.org/ontology/timescale/gts#>\n",
    "\n",
    "    SELECT *\n",
    "    WHERE {\n",
    "        ?a a gts:Age .\n",
    "    }\n",
    "    ORDER BY ?a\n",
    "    LIMIT 5\n",
    "    \"\"\"\n",
    ")\n",
    "\n",
    "try:\n",
    "    ret = sparql.queryAndConvert()\n",
    "\n",
    "    for r in ret[\"results\"][\"bindings\"]:\n",
    "        print(r)\n",
    "except Exception as e:\n",
    "    print(e)\n"
   ]
  },
  {
   "cell_type": "code",
   "execution_count": 7,
   "metadata": {},
   "outputs": [
    {
     "name": "stdout",
     "output_type": "stream",
     "text": [
      "<?xml version=\"1.0\" ?><sparql xmlns=\"http://www.w3.org/2005/sparql-results#\" xmlns:xsi=\"http://www.w3.org/2001/XMLSchema-instance\" xsi:schemaLocation=\"http://www.w3.org/2001/sw/DataAccess/rf1/result2.xsd\">\n",
      " <head/>\n",
      " <boolean>true</boolean>\n",
      "</sparql>\n"
     ]
    }
   ],
   "source": [
    "from SPARQLWrapper import XML\n",
    "\n",
    "sparql = SPARQLWrapper(\"http://dbpedia.org/sparql\")\n",
    "sparql.setQuery(\"\"\"\n",
    "    ASK WHERE {\n",
    "        <http://dbpedia.org/resource/Asturias> rdfs:label \"Asturias\"@es\n",
    "    }\n",
    "\"\"\")\n",
    "sparql.setReturnFormat(XML)\n",
    "results = sparql.query().convert()\n",
    "print(results.toxml())"
   ]
  },
  {
   "cell_type": "code",
   "execution_count": 8,
   "metadata": {},
   "outputs": [
    {
     "name": "stdout",
     "output_type": "stream",
     "text": [
      "@prefix ns2: <https://schema.org/> .\n",
      "\n",
      "<http://dbpedia.org/resource/Cameroonian_English> a ns2:Language ;\n",
      "    ns2:alternateName \"en\" .\n",
      "\n",
      "<http://dbpedia.org/resource/Catalan_language> a ns2:Language ;\n",
      "    ns2:alternateName \"ca\" .\n",
      "\n",
      "<http://dbpedia.org/resource/Punjabi_language> a ns2:Language ;\n",
      "    ns2:alternateName \"pa\" .\n",
      "\n",
      "\n"
     ]
    }
   ],
   "source": [
    "sparql = SPARQLWrapper(\"http://dbpedia.org/sparql\")\n",
    "\n",
    "sparql.setQuery(\"\"\"\n",
    "    PREFIX dbo: <http://dbpedia.org/ontology/>\n",
    "    PREFIX sdo: <https://schema.org/>\n",
    "\n",
    "    CONSTRUCT {\n",
    "      ?lang a sdo:Language ;\n",
    "      sdo:alternateName ?iso6391Code .\n",
    "    }\n",
    "    WHERE {\n",
    "      ?lang a dbo:Language ;\n",
    "      dbo:iso6391Code ?iso6391Code .\n",
    "      FILTER (STRLEN(?iso6391Code)=2) # to filter out non-valid values\n",
    "    }\n",
    "    LIMIT 3\n",
    "\"\"\")\n",
    "\n",
    "results = sparql.queryAndConvert()\n",
    "print(results.serialize())"
   ]
  }
 ],
 "metadata": {
  "kernelspec": {
   "display_name": "3.9.13",
   "language": "python",
   "name": "python3"
  },
  "language_info": {
   "codemirror_mode": {
    "name": "ipython",
    "version": 3
   },
   "file_extension": ".py",
   "mimetype": "text/x-python",
   "name": "python",
   "nbconvert_exporter": "python",
   "pygments_lexer": "ipython3",
   "version": "3.9.13"
  }
 },
 "nbformat": 4,
 "nbformat_minor": 2
}
