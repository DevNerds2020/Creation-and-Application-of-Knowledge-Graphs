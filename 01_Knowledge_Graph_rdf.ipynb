{
 "cells": [
  {
   "cell_type": "markdown",
   "id": "b47f81713235d196",
   "metadata": {
    "collapsed": false,
    "id": "b47f81713235d196",
    "jupyter": {
     "outputs_hidden": false
    }
   },
   "source": [
    "### Creation and Application of Knowledge Graphs - Exercise 1\n",
    "# Recap of Knowledge Graphs\n",
    "## Task 3\n",
    "\n",
    "Write down the code in the provided cell and execute for the output.\n",
    "To start with the tasks run the code cell below to import libraries."
   ]
  },
  {
   "cell_type": "code",
   "execution_count": 1,
   "id": "dca507f8b4b619c",
   "metadata": {
    "ExecuteTime": {
     "end_time": "2023-10-12T04:52:15.604439Z",
     "start_time": "2023-10-12T04:52:15.577484Z"
    },
    "id": "dca507f8b4b619c"
   },
   "outputs": [],
   "source": [
    "# !pip install rdflib # Uncomment the following command if the library module needs to be installed.\n",
    "\n",
    "# Required libraries\n",
    "from rdflib import Graph, RDF, Namespace\n",
    "from IPython.display import clear_output"
   ]
  },
  {
   "cell_type": "markdown",
   "id": "81282dbf752912dd",
   "metadata": {
    "collapsed": false,
    "id": "81282dbf752912dd",
    "jupyter": {
     "outputs_hidden": false
    }
   },
   "source": [
    "\n",
    "### Task 3.1\n",
    "Write code to load the triples created in Task 1.2 into a knowledge graph using the [RDFLib](https://rdflib.readthedocs.io/en/stable/intro_to_parsing.html) Python library. Print the triples and the number of triples contained in the graph."
   ]
  },
  {
   "cell_type": "code",
   "execution_count": 3,
   "id": "35b323f0a05a6a8d",
   "metadata": {
    "ExecuteTime": {
     "end_time": "2023-10-12T04:52:15.610033Z",
     "start_time": "2023-10-12T04:52:15.584649Z"
    },
    "id": "35b323f0a05a6a8d",
    "outputId": "8c9c05e9-eec1-4171-f38e-ca00c5184ad0"
   },
   "outputs": [
    {
     "name": "stdout",
     "output_type": "stream",
     "text": [
      "Number of Triples : 7\n",
      "https://dbpedia.org/resource/Berlin -> https://dbpedia.org/ontology/populationTotal -> 3645000\n",
      "https://dbpedia.org/resource/Germany -> http://www.w3.org/1999/02/22-rdf-syntax-ns#type -> https://dbpedia.org/ontology/Country\n",
      "https://dbpedia.org/resource/Berlin -> http://www.w3.org/1999/02/22-rdf-syntax-ns#type -> https://dbpedia.org/ontology/City\n",
      "https://dbpedia.org/resource/Berlin -> http://www.w3.org/2000/01/rdf-schema#label -> Berlin\n",
      "https://dbpedia.org/resource/Berlin -> https://dbpedia.org/ontology/country -> https://dbpedia.org/resource/Germany\n",
      "https://dbpedia.org/resource/Germany -> https://dbpedia.org/ontology/capital -> https://dbpedia.org/resource/Berlin\n",
      "https://dbpedia.org/resource/Germany -> http://www.w3.org/2000/01/rdf-schema#label -> Deutschland\n"
     ]
    }
   ],
   "source": [
    "# Code Here\n",
    "G = Graph()\n",
    "G.parse(\"data/triples.ttl\")\n",
    "DBO = Namespace(\"https://dbpedia.org/ontology/\")\n",
    "\n",
    "print(\"Number of Triples : {}\".format(len(G)))\n",
    "for s, p, o in G:\n",
    "    print(\"{} -> {} -> {}\".format(s, p, o))"
   ]
  },
  {
   "cell_type": "markdown",
   "id": "f090a6f1904e9b5",
   "metadata": {
    "collapsed": false,
    "id": "f090a6f1904e9b5",
    "jupyter": {
     "outputs_hidden": false
    }
   },
   "source": [
    "### Task 3.2\n",
    "Use [RDFLib's navigation functionality](https://rdflib.readthedocs.io/en/stable/intro_to_graphs.html) to list all cities in your graph."
   ]
  },
  {
   "cell_type": "markdown",
   "id": "7502469cea64fd01",
   "metadata": {
    "collapsed": false,
    "id": "7502469cea64fd01",
    "jupyter": {
     "outputs_hidden": false
    }
   },
   "source": []
  },
  {
   "cell_type": "code",
   "execution_count": 4,
   "id": "f9ae41b872b3d8f2",
   "metadata": {
    "ExecuteTime": {
     "end_time": "2023-10-12T04:52:15.610232Z",
     "start_time": "2023-10-12T04:52:15.595458Z"
    },
    "id": "f9ae41b872b3d8f2",
    "outputId": "43c40436-34ed-4075-fd3b-44f217d3f3ed"
   },
   "outputs": [
    {
     "name": "stdout",
     "output_type": "stream",
     "text": [
      "https://dbpedia.org/resource/Berlin\n"
     ]
    }
   ],
   "source": [
    "# Code Here\n",
    "for s, p, o in G.triples((None, RDF.type, DBO.City)):\n",
    "    print(s)"
   ]
  },
  {
   "cell_type": "markdown",
   "id": "8adb958da6a67dbe",
   "metadata": {
    "collapsed": false,
    "id": "8adb958da6a67dbe",
    "jupyter": {
     "outputs_hidden": false
    }
   },
   "source": [
    "### Task 3.3\n",
    "Run the SPARQL query from Task 2.4 on your graph in [RDFLib](https://rdflib.readthedocs.io/en/stable/intro_to_sparql.html)."
   ]
  },
  {
   "cell_type": "code",
   "execution_count": 5,
   "id": "8cbf5c23e8782a44",
   "metadata": {
    "ExecuteTime": {
     "end_time": "2023-10-12T04:52:15.610562Z",
     "start_time": "2023-10-12T04:52:15.602838Z"
    },
    "id": "8cbf5c23e8782a44",
    "outputId": "b6cbce4c-43a9-4b0c-bd55-b1ab36e5b332"
   },
   "outputs": [
    {
     "name": "stdout",
     "output_type": "stream",
     "text": [
      "Number of Inhabitants : 3645000\n"
     ]
    }
   ],
   "source": [
    "query = \"\"\"\n",
    "SELECT ?inhabitants WHERE {\n",
    "    dbr:Germany dbo:capital ?capital .\n",
    "    ?capital dbo:populationTotal ?inhabitants .\n",
    "}\n",
    "\"\"\"\n",
    "# Code Here\n",
    "result = G.query(query)\n",
    "for row in result:\n",
    "    print(\"Number of Inhabitants : {}\".format(row.inhabitants))"
   ]
  }
 ],
 "metadata": {
  "colab": {
   "provenance": []
  },
  "kernelspec": {
   "display_name": "Python 3 (ipykernel)",
   "language": "python",
   "name": "python3"
  },
  "language_info": {
   "codemirror_mode": {
    "name": "ipython",
    "version": 3
   },
   "file_extension": ".py",
   "mimetype": "text/x-python",
   "name": "python",
   "nbconvert_exporter": "python",
   "pygments_lexer": "ipython3",
   "version": "3.9.13"
  }
 },
 "nbformat": 4,
 "nbformat_minor": 5
}
