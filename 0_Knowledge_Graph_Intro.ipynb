{
 "cells": [
  {
   "cell_type": "markdown",
   "id": "b82cf43c103ba976",
   "metadata": {
    "slideshow": {
     "slide_type": "slide"
    }
   },
   "source": [
    "# Creation and Application of Knowledge Graphs\n",
    "# Introduction to Lab\n"
   ]
  },
  {
   "cell_type": "markdown",
   "id": "56ed445515ecd880",
   "metadata": {
    "slideshow": {
     "slide_type": "slide"
    }
   },
   "source": [
    "This notebook is used for a small prologue to the lab exercises for the course \"Creation and Applications of Knowledge Graphs\"\n",
    "For this course exercises, there are some prerequisites :\n",
    "- Prior knowledge on Subject (Basics)\n",
    "- Python 3\n",
    "- Jupyter Notebook (Recap)"
   ]
  },
  {
   "cell_type": "markdown",
   "id": "3bdac4407aee5e73",
   "metadata": {
    "slideshow": {
     "slide_type": "slide"
    }
   },
   "source": [
    "### Contents\n",
    "\n",
    "- Jupyter (Quick Recap)\n",
    "\n",
    "- Introduction of RDFLib & SPARQL"
   ]
  },
  {
   "cell_type": "markdown",
   "id": "88172a2a",
   "metadata": {
    "slideshow": {
     "slide_type": "slide"
    }
   },
   "source": [
    "## Jupyter Notebook : Installation\n",
    "\n",
    "Miniconda - https://docs.conda.io/projects/miniconda/en/latest/"
   ]
  },
  {
   "cell_type": "markdown",
   "id": "163c29cd",
   "metadata": {
    "slideshow": {
     "slide_type": "slide"
    }
   },
   "source": [
    "### Jupyter Notebook\n",
    "\n",
    "Just a quick look back on how it works. The markdown cell is used to type in documentation and uses \n",
    "[Markdown](https://www.markdownguide.org/cheat-sheet/) as markup. As obviously, code cell is for code execution and scripting"
   ]
  },
  {
   "cell_type": "markdown",
   "id": "d26bb8ebcc098a27",
   "metadata": {
    "slideshow": {
     "slide_type": "slide"
    }
   },
   "source": [
    "### Let's install \n",
    "To begin with let's install the RDFLib"
   ]
  },
  {
   "cell_type": "code",
   "execution_count": 1,
   "id": "0c4c34fa",
   "metadata": {},
   "outputs": [],
   "source": [
    "from IPython.display import clear_output"
   ]
  },
  {
   "cell_type": "code",
   "execution_count": 2,
   "id": "65f13380026a3b77",
   "metadata": {
    "ExecuteTime": {
     "end_time": "2023-10-16T02:21:57.989803Z",
     "start_time": "2023-10-16T02:21:31.195400Z"
    },
    "slideshow": {
     "slide_type": "fragment"
    }
   },
   "outputs": [],
   "source": [
    "!pip install rdflib SPARQLWrapper\n",
    "# !conda install -y -c conda-forge rdflib SPARQLWrapper\n",
    "clear_output()"
   ]
  },
  {
   "cell_type": "markdown",
   "id": "3d09062083518043",
   "metadata": {
    "slideshow": {
     "slide_type": "slide"
    }
   },
   "source": [
    "### Let's start\n",
    "\n",
    "First, let's get all the modules from the library"
   ]
  },
  {
   "cell_type": "code",
   "execution_count": 3,
   "id": "b36a785cc03b9818",
   "metadata": {
    "ExecuteTime": {
     "end_time": "2023-10-16T02:27:38.278105Z",
     "start_time": "2023-10-16T02:27:38.277014Z"
    },
    "slideshow": {
     "slide_type": "fragment"
    }
   },
   "outputs": [],
   "source": [
    "from rdflib import Graph, Namespace, Literal, URIRef\n",
    "from rdflib.namespace import RDF, RDFS\n",
    "from SPARQLWrapper import SPARQLWrapper, JSON"
   ]
  },
  {
   "cell_type": "markdown",
   "id": "5039ccbe4b085e4a",
   "metadata": {
    "slideshow": {
     "slide_type": "slide"
    }
   },
   "source": [
    "### Creation of Instances\n",
    "\n",
    "Now, since everything is set, let's create Namespace and Graph instance"
   ]
  },
  {
   "cell_type": "code",
   "execution_count": 4,
   "id": "519a846f68fd00a8",
   "metadata": {
    "ExecuteTime": {
     "end_time": "2023-10-16T02:44:49.537082Z",
     "start_time": "2023-10-16T02:44:49.535418Z"
    },
    "slideshow": {
     "slide_type": "fragment"
    }
   },
   "outputs": [],
   "source": [
    "#Creating a new Grpah\n",
    "G = Graph()\n",
    "\n",
    "# Required Namespaces\n",
    "foaf = Namespace(\"http://xmlns.com/foaf/0.1/\")\n",
    "DBR = Namespace(\"http://dbpedia.org/resource/\")\n",
    "DBO = Namespace(\"http://dbpedia.org/ontology/\")"
   ]
  },
  {
   "cell_type": "markdown",
   "id": "bef8995d",
   "metadata": {
    "slideshow": {
     "slide_type": "slide"
    }
   },
   "source": [
    "### Adding Triples to Graph\n",
    "\n",
    "Let's consider two persons, Anna and Micheal. Both of them belongs to the class 'Person'. First we create an URI Reference"
   ]
  },
  {
   "cell_type": "code",
   "execution_count": 5,
   "id": "296ea55f",
   "metadata": {
    "slideshow": {
     "slide_type": "fragment"
    }
   },
   "outputs": [
    {
     "data": {
      "text/plain": [
       "<Graph identifier=N609787f3112241a69959c866d284bc50 (<class 'rdflib.graph.Graph'>)>"
      ]
     },
     "execution_count": 5,
     "metadata": {},
     "output_type": "execute_result"
    }
   ],
   "source": [
    "person1 = URIRef(\"http://example.org/anna\")\n",
    "person2 = URIRef(\"http://example.org/Micheal\")\n",
    "\n",
    "# Adding nodes to graph\n",
    "G.add((person1, RDF.type, DBO.Person))\n",
    "G.add((person1, foaf.name, Literal(\"Anna\")))\n",
    "\n",
    "G.add((person2, RDF.type, DBO.Person))\n",
    "G.add((person2, foaf.name, Literal(\"Micheal\")))"
   ]
  },
  {
   "cell_type": "markdown",
   "id": "8e04aadf",
   "metadata": {
    "slideshow": {
     "slide_type": "slide"
    }
   },
   "source": [
    "Let's say relation between two individuals are friendship. Let's consider that to graph and add the relation"
   ]
  },
  {
   "cell_type": "code",
   "execution_count": 6,
   "id": "1218d86b",
   "metadata": {
    "slideshow": {
     "slide_type": "fragment"
    }
   },
   "outputs": [
    {
     "data": {
      "text/plain": [
       "<Graph identifier=N609787f3112241a69959c866d284bc50 (<class 'rdflib.graph.Graph'>)>"
      ]
     },
     "execution_count": 6,
     "metadata": {},
     "output_type": "execute_result"
    }
   ],
   "source": [
    "G.add((person1, foaf.friendship, person2))"
   ]
  },
  {
   "cell_type": "markdown",
   "id": "e2aa93ad",
   "metadata": {
    "slideshow": {
     "slide_type": "slide"
    }
   },
   "source": [
    "### Saving the Graph\n",
    "\n",
    "The Graph is serialized and save to storage for reuses. The graphs can be formatted in JSON, RDF/XML or Turtle syntax"
   ]
  },
  {
   "cell_type": "code",
   "execution_count": 7,
   "id": "45dcc3ad",
   "metadata": {
    "slideshow": {
     "slide_type": "fragment"
    }
   },
   "outputs": [
    {
     "data": {
      "text/plain": [
       "<Graph identifier=N609787f3112241a69959c866d284bc50 (<class 'rdflib.graph.Graph'>)>"
      ]
     },
     "execution_count": 7,
     "metadata": {},
     "output_type": "execute_result"
    }
   ],
   "source": [
    "G.serialize(destination=\"output.ttl\", format=\"turtle\")"
   ]
  },
  {
   "cell_type": "markdown",
   "id": "c712bbf7",
   "metadata": {
    "slideshow": {
     "slide_type": "slide"
    }
   },
   "source": [
    "Now let's load the saved graph from the file"
   ]
  },
  {
   "cell_type": "code",
   "execution_count": 8,
   "id": "a6c1e7ca",
   "metadata": {
    "slideshow": {
     "slide_type": "fragment"
    }
   },
   "outputs": [
    {
     "name": "stdout",
     "output_type": "stream",
     "text": [
      "http://example.org/anna -> http://xmlns.com/foaf/0.1/friendship -> http://example.org/Micheal\n",
      "http://example.org/anna -> http://xmlns.com/foaf/0.1/name -> Anna\n",
      "http://example.org/anna -> http://www.w3.org/1999/02/22-rdf-syntax-ns#type -> http://dbpedia.org/ontology/Person\n",
      "http://example.org/Micheal -> http://xmlns.com/foaf/0.1/name -> Micheal\n",
      "http://example.org/Micheal -> http://www.w3.org/1999/02/22-rdf-syntax-ns#type -> http://dbpedia.org/ontology/Person\n"
     ]
    }
   ],
   "source": [
    "G2 = Graph().parse(\"output.ttl\", format=\"ttl\")\n",
    "\n",
    "for s, p ,o in G2:\n",
    "    print(f'{s} -> {p} -> {o}')"
   ]
  },
  {
   "cell_type": "markdown",
   "id": "ef8245b357907c2e",
   "metadata": {
    "slideshow": {
     "slide_type": "slide"
    }
   },
   "source": [
    "### The Query\n",
    "\n",
    "Let's create a query based on previous example"
   ]
  },
  {
   "cell_type": "code",
   "execution_count": 9,
   "id": "b131cf3a4906ee38",
   "metadata": {
    "ExecuteTime": {
     "end_time": "2023-10-16T02:42:39.239873Z",
     "start_time": "2023-10-16T02:42:39.236042Z"
    },
    "slideshow": {
     "slide_type": "subslide"
    }
   },
   "outputs": [
    {
     "name": "stdout",
     "output_type": "stream",
     "text": [
      "(rdflib.term.Literal('Timothy Berners-Lee'),)\n",
      "Timothy Berners-Lee\n"
     ]
    }
   ],
   "source": [
    "# Create a Graph, parse from Internet data\n",
    "g = Graph().parse(\"http://www.w3.org/People/Berners-Lee/card\")\n",
    "\n",
    "# Query the data in g using SPARQL\n",
    "# This query returns the 'name' of all ``foaf:Person`` instances\n",
    "q = \"\"\"\n",
    "    PREFIX foaf: <http://xmlns.com/foaf/0.1/>\n",
    "\n",
    "    SELECT ?name\n",
    "    WHERE {\n",
    "        ?p rdf:type foaf:Person .\n",
    "\n",
    "        ?p foaf:name ?name .\n",
    "    }\n",
    "\"\"\"\n",
    "\n",
    "# Apply the query to the graph and iterate through results\n",
    "for r in g.query(q):\n",
    "    print(r)\n",
    "    print(r[\"name\"])\n"
   ]
  },
  {
   "cell_type": "markdown",
   "id": "8e0b4069",
   "metadata": {
    "slideshow": {
     "slide_type": "slide"
    }
   },
   "source": [
    "### SPARQL Wrapper\n",
    "\n",
    "Let's say we need to search something. This is where SPARQL comes in hand. SPARQL is a query language for RDF graphs. RDF graphs are a way of representing data in a linked and interconnected way. SPARQL queries can be used to find specific information in RDF graphs, or to perform more complex tasks such as reasoning and inference.\n",
    "\n",
    "Here's a example in general :\n",
    "```\n",
    "PREFIX foaf: <http://xmlns.com/foaf/0.1/>\n",
    "\n",
    "SELECT ?name\n",
    "WHERE {\n",
    "  ?person foaf:givenName ?name .\n",
    "}\n",
    "```"
   ]
  },
  {
   "cell_type": "code",
   "execution_count": 10,
   "id": "eb14d23b",
   "metadata": {
    "slideshow": {
     "slide_type": "subslide"
    }
   },
   "outputs": [
    {
     "name": "stdout",
     "output_type": "stream",
     "text": [
      "{'spouse': {'type': 'uri', 'value': 'http://dbpedia.org/resource/Jill_Biden'}, 'birthDate': {'type': 'typed-literal', 'datatype': 'http://www.w3.org/2001/XMLSchema#date', 'value': '1951-06-03'}}\n",
      "{'spouse': {'type': 'uri', 'value': 'http://dbpedia.org/resource/Neilia_Hunter_Biden'}, 'birthDate': {'type': 'typed-literal', 'datatype': 'http://www.w3.org/2001/XMLSchema#date', 'value': '1942-07-28'}}\n"
     ]
    }
   ],
   "source": [
    "# Creating Instance\n",
    "sparql = SPARQLWrapper(\n",
    "    \"https://dbpedia.org/sparql\"\n",
    ")\n",
    "sparql.setReturnFormat(JSON)\n",
    "\n",
    "# gets the spouse and birthdate of Joe Biden\n",
    "# from the DBpedia database via a SPARQL endpoint\n",
    "\n",
    "sparql.setQuery(\"\"\"\n",
    "    PREFIX dbr: <http://dbpedia.org/resource/>\n",
    "    PREFIX dbo: <http://dbpedia.org/ontology/>\n",
    "    PREFIX xsd: <http://www.w3.org/2001/>\n",
    "\n",
    "    SELECT ?spouse ?birthDate WHERE {\n",
    "        dbr:Joe_Biden dbo:spouse ?spouse .\n",
    "        ?spouse dbo:birthDate ?birthDate .\n",
    "    }\n",
    "    \"\"\"\n",
    ")\n",
    "\n",
    "try:\n",
    "    ret = sparql.queryAndConvert()\n",
    "\n",
    "    for r in ret[\"results\"][\"bindings\"]:\n",
    "        print(r)\n",
    "except Exception as e:\n",
    "    print(e)"
   ]
  },
  {
   "cell_type": "markdown",
   "id": "56e205de",
   "metadata": {
    "slideshow": {
     "slide_type": "slide"
    }
   },
   "source": [
    "## References\n",
    "\n",
    "- Getting Started with RDFLib : https://rdflib.readthedocs.io/en/stable/gettingstarted.html\n",
    "- SPARQL Wrapper : https://sparqlwrapper.readthedocs.io/en/latest/main.html#command-line-script\n",
    "- Markdown Cheat Sheet : https://www.markdownguide.org/cheat-sheet/"
   ]
  }
 ],
 "metadata": {
  "celltoolbar": "Slideshow",
  "kernelspec": {
   "display_name": "Python 3 (ipykernel)",
   "language": "python",
   "name": "python3"
  },
  "language_info": {
   "codemirror_mode": {
    "name": "ipython",
    "version": 3
   },
   "file_extension": ".py",
   "mimetype": "text/x-python",
   "name": "python",
   "nbconvert_exporter": "python",
   "pygments_lexer": "ipython3",
   "version": "3.9.13"
  }
 },
 "nbformat": 4,
 "nbformat_minor": 5
}
