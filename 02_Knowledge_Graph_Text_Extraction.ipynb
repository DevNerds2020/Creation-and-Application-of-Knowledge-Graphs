{
 "cells": [
  {
   "cell_type": "markdown",
   "id": "3598897309e4b652",
   "metadata": {},
   "source": [
    "### Creation and Application of Knowledge Graphs - Exercise 2 (Solution)\n",
    "# Knowledge Graph Extraction from Text\n",
    "## Task 2\n",
    "\n",
    "Write down the code in the provided cell and execute for the output.\n",
    "\n",
    "To begin, run the code cell below to use the libraries. Also, in order to use spaCy models, we need to download 'en_core_web_sm' model for NLP functions for Wnglish."
   ]
  },
  {
   "cell_type": "code",
   "execution_count": 1,
   "id": "initial_id",
   "metadata": {
    "ExecuteTime": {
     "end_time": "2023-10-13T12:19:22.549578Z",
     "start_time": "2023-10-13T12:19:16.498101Z"
    }
   },
   "outputs": [],
   "source": [
    "# Required Libraries\n",
    "from rdflib import Graph, RDF, RDFS, Namespace, URIRef, Literal\n",
    "import spacy\n",
    "\n",
    "# Download the language model for spaCy\n",
    "# spacy.cli.download(\"en_core_web_sm\")\n",
    "nlp = spacy.load(\"en_core_web_sm\")\n",
    "    \n",
    "# Namespaces\n",
    "DBO = Namespace(\"https://dbpedia.org/ontology/\")\n",
    "DBR = Namespace(\"https://dbpedia.org/resource/\")"
   ]
  },
  {
   "cell_type": "markdown",
   "id": "c1cc87f342465ac3",
   "metadata": {},
   "source": [
    "#### Task 2.2\n",
    "## Named Entity Recognition\n",
    "\n",
    "Consider the following sentence from Task 1. Use the [spaCy](\"https://spacy.io/usage/linguistic-features#named-entities\") library to identify entities in sentence, with label and type."
   ]
  },
  {
   "cell_type": "code",
   "execution_count": 6,
   "id": "1bc85f7c20adefd5",
   "metadata": {
    "ExecuteTime": {
     "end_time": "2023-10-13T12:19:30.060586Z",
     "start_time": "2023-10-13T12:19:30.032703Z"
    }
   },
   "outputs": [
    {
     "name": "stdout",
     "output_type": "stream",
     "text": [
      "Barack Obama\n",
      "Berlin\n",
      "Germany\n"
     ]
    }
   ],
   "source": [
    "sentence = \"Barack Obama visited Berlin, the capital of Germany\"\n",
    "# Code here\n",
    "\n",
    "document = nlp(sentence)\n",
    "types = {\n",
    "    \"PERSON\": DBO.Person,\n",
    "    \"GPE\": DBO.Place,\n",
    "}\n",
    "print(document)\n",
    "for entity in document.ents:\n",
    "    print(entity)"
   ]
  },
  {
   "cell_type": "markdown",
   "id": "ed29f62b9c3f8038",
   "metadata": {},
   "source": [
    "#### Task 2.3\n",
    "\n",
    "Create a Knowledge Graph containing all entities detected in Task 2.2, with labels and types. Use the RDFLib library for creation of graph, defining types and testing."
   ]
  },
  {
   "cell_type": "code",
   "execution_count": 7,
   "id": "26503bbbed6af492",
   "metadata": {
    "ExecuteTime": {
     "end_time": "2023-10-13T12:22:41.515298Z",
     "start_time": "2023-10-13T12:22:41.501923Z"
    }
   },
   "outputs": [
    {
     "name": "stdout",
     "output_type": "stream",
     "text": [
      "@prefix rdfs: <http://www.w3.org/2000/01/rdf-schema#> .\n",
      "\n",
      "<https://dbpedia.org/resource/Barack_Obama> a <https://dbpedia.org/ontology/Person> ;\n",
      "    rdfs:label \"Barack Obama\" .\n",
      "\n",
      "<https://dbpedia.org/resource/Berlin> a <https://dbpedia.org/ontology/Place> ;\n",
      "    rdfs:label \"Berlin\" .\n",
      "\n",
      "<https://dbpedia.org/resource/Germany> a <https://dbpedia.org/ontology/Place> ;\n",
      "    rdfs:label \"Germany\" .\n",
      "\n",
      "\n"
     ]
    }
   ],
   "source": [
    "# Code here\n",
    "\n",
    "# Creating graph instance\n",
    "g = Graph()\n",
    "\n",
    "for entity in document.ents:\n",
    "    node = URIRef(DBR[entity.text.replace(\" \", \"_\")])\n",
    "    g.add((node, RDF.type, types[entity.label_]))\n",
    "    g.add((node, RDFS.label, Literal(entity.text)))\n",
    "    \n",
    "\n",
    "print((g.serialize(format=\"ttl\")))"
   ]
  },
  {
   "cell_type": "markdown",
   "id": "781860180fd98c03",
   "metadata": {},
   "source": [
    "Use the graph created in the previous cell to run the following SPARQL query. Print it's output."
   ]
  },
  {
   "cell_type": "code",
   "execution_count": 8,
   "id": "b37c9dc1d2f50ca8",
   "metadata": {
    "ExecuteTime": {
     "end_time": "2023-10-13T12:25:58.546542Z",
     "start_time": "2023-10-13T12:25:58.541056Z"
    }
   },
   "outputs": [
    {
     "name": "stdout",
     "output_type": "stream",
     "text": [
      "Berlin\n",
      "Germany\n"
     ]
    }
   ],
   "source": [
    "query = \"\"\"\n",
    "PREFIX dbo: <https://dbpedia.org/ontology/>\n",
    "SELECT ?placeLabel WHERE {\n",
    "    ?place rdf:type dbo:Place .\n",
    "    ?place rdfs:label ?placeLabel . \n",
    "}\n",
    "\"\"\"\n",
    "# Code here\n",
    "result = g.query(query)\n",
    "for record in result:\n",
    "    print(\"{}\".format(record.placeLabel))"
   ]
  }
 ],
 "metadata": {
  "kernelspec": {
   "display_name": "base",
   "language": "python",
   "name": "python3"
  },
  "language_info": {
   "codemirror_mode": {
    "name": "ipython",
    "version": 3
   },
   "file_extension": ".py",
   "mimetype": "text/x-python",
   "name": "python",
   "nbconvert_exporter": "python",
   "pygments_lexer": "ipython3",
   "version": "3.9.13"
  }
 },
 "nbformat": 4,
 "nbformat_minor": 5
}
