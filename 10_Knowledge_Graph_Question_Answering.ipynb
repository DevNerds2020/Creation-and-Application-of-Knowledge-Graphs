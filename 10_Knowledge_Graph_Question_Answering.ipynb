{
 "cells": [
  {
   "cell_type": "markdown",
   "id": "68465b8c355f6723",
   "metadata": {
    "collapsed": false,
    "jupyter": {
     "outputs_hidden": false
    }
   },
   "source": [
    "Exercise 10\n",
    "# Question Answering on Knowledge Graphs"
   ]
  },
  {
   "cell_type": "markdown",
   "id": "fc5b42fb575d09ed",
   "metadata": {
    "collapsed": false,
    "jupyter": {
     "outputs_hidden": false
    }
   },
   "source": [
    "### Task 3: Information Extraction-based Approaches\n"
   ]
  },
  {
   "cell_type": "markdown",
   "id": "a6e77e65ed9d075b",
   "metadata": {
    "collapsed": false,
    "jupyter": {
     "outputs_hidden": false
    }
   },
   "source": [
    "Task 3.2: Write a simple QA system that uses the following strategy:\n",
    "1. Load the knowledge graph and the ontology from the provided RDF files \"exercise10.ttl\" and \"exercise10_ontology.ttl\".\n",
    "2. Use the `rdfs:label` relations in the ontology to detect properties mentioned in the question.\n",
    "3. Use the spaCy library to detect named entities in the question.\n",
    "4. Create sub graphs of the knowledge graphs with an increasing number of nodes.\n",
    "5. Take the sub graphs with the least amount of nodes that contain the named entities and properties detected in the question.\n",
    "6. From these sub graphs, print those nodes which are not the named entities detected in the question.\n",
    "\n",
    "Use the following code for the first step."
   ]
  },
  {
   "cell_type": "code",
   "execution_count": 3,
   "id": "eff6810815b51cf6",
   "metadata": {
    "ExecuteTime": {
     "end_time": "2023-12-17T23:46:41.998283Z",
     "start_time": "2023-12-17T23:46:23.107357Z"
    },
    "collapsed": false,
    "jupyter": {
     "outputs_hidden": false
    }
   },
   "outputs": [
    {
     "name": "stdout",
     "output_type": "stream",
     "text": [
      "Collecting en-core-web-sm==3.8.0\n",
      "  Using cached https://github.com/explosion/spacy-models/releases/download/en_core_web_sm-3.8.0/en_core_web_sm-3.8.0-py3-none-any.whl (12.8 MB)\n",
      "\u001b[38;5;2m✔ Download and installation successful\u001b[0m\n",
      "You can now load the package via spacy.load('en_core_web_sm')\n",
      "\u001b[38;5;3m⚠ Restart to reload dependencies\u001b[0m\n",
      "If you are in a Jupyter or Colab notebook, you may need to restart Python in\n",
      "order to load all the package's dependencies. You can do this by selecting the\n",
      "'Restart kernel' or 'Restart runtime' option.\n"
     ]
    },
    {
     "data": {
      "text/plain": [
       "<Graph identifier=N191941ede2b34c75827c204648c3aaa0 (<class 'rdflib.graph.Graph'>)>"
      ]
     },
     "execution_count": 3,
     "metadata": {},
     "output_type": "execute_result"
    }
   ],
   "source": [
    "# Required Libraries\n",
    "import itertools\n",
    "import networkx as nx\n",
    "import spacy\n",
    "from rdflib import Graph, RDF, Namespace, RDFS, URIRef\n",
    "from rdflib.extras.external_graph_libs import rdflib_to_networkx_multidigraph\n",
    "\n",
    "# Only run the following line once:\n",
    "spacy.cli.download(\"en_core_web_sm\")\n",
    "nlp = spacy.load(\"en_core_web_sm\")\n",
    "\n",
    "DBO = Namespace(\"https://dbpedia.org/ontology/\")\n",
    "DBR = Namespace(\"https://dbpedia.org/resource/\")\n",
    "\n",
    "# Load the graph from exercise10.ttl into an RDFLib graph\n",
    "g = Graph()\n",
    "g.parse(\"data/exercise10.ttl\")\n",
    "\n",
    "# Load the ontology from exercise9_ontology.ttl into an RDFLib graph\n",
    "ontology = Graph()\n",
    "ontology.parse(\"data/exercise10_ontology.ttl\")"
   ]
  },
  {
   "cell_type": "markdown",
   "id": "e2bf3d7c",
   "metadata": {},
   "source": [
    "Create the `get_answer` function by implementing the remaining five steps described above."
   ]
  },
  {
   "cell_type": "code",
   "execution_count": 12,
   "id": "d6b9ebec",
   "metadata": {},
   "outputs": [
    {
     "name": "stdout",
     "output_type": "stream",
     "text": [
      "https://dbpedia.org/ontology/populationTotal population\n",
      "https://dbpedia.org/ontology/capital capital\n",
      "https://dbpedia.org/ontology/birthPlace birth place\n",
      "https://dbpedia.org/ontology/birthPlace born in\n",
      "https://dbpedia.org/ontology/deathPlace death place\n",
      "https://dbpedia.org/ontology/deathPlace died in\n",
      "https://dbpedia.org/ontology/partner partner\n"
     ]
    }
   ],
   "source": [
    "for property,_,_ in ontology.triples((None, RDF.type, RDF.Property)):\n",
    "    for _,_,label in ontology.triples((property, RDFS.label, None)):\n",
    "        print(property, label)"
   ]
  },
  {
   "cell_type": "code",
   "execution_count": 22,
   "id": "dcdce787eeb59202",
   "metadata": {
    "ExecuteTime": {
     "end_time": "2023-12-17T23:47:29.785445Z",
     "start_time": "2023-12-17T23:47:29.769889Z"
    },
    "collapsed": false,
    "jupyter": {
     "outputs_hidden": false
    }
   },
   "outputs": [],
   "source": [
    "def get_answer(question):\n",
    "    print(\"\\nQuestion:\", question)\n",
    "\n",
    "    # 2. Find properties mentioned in the question via their labels in the ontology\n",
    "    question_properties = set()\n",
    "    for property, _, _ in ontology.triples((None, RDF.type, RDF.Property)):\n",
    "        for _, _, label in ontology.triples((property, RDFS.label, None)):\n",
    "            # print(\"***********************\")\n",
    "            # print(\"finding labels in question\")\n",
    "            # print(label, \"||||||||||||\", property)\n",
    "            if label in question:\n",
    "                question_properties.add(property)\n",
    "    print(\" Question properties:\", [str(x) for x in question_properties])\n",
    "\n",
    "    # 3. Detect entities mentioned in the question using spacy\n",
    "    question_entities = set()\n",
    "    doc = nlp(question)\n",
    "    print(\"############### documnet entities ################\")\n",
    "    print(doc.ents)\n",
    "    for ent in doc.ents:\n",
    "        question_entities.add(URIRef(DBR[ent.text.replace(\" \", \"_\")]))\n",
    "    print(\" Question entities:\", [str(x) for x in question_entities])\n",
    "\n",
    "    # For simplicity: Remove rdfs:label relations from the knowledge graph\n",
    "    g.remove((None, RDFS.label, None))\n",
    "    # Convert the graph to a networkx graph o you can use networkx and itertools graph operations\n",
    "    G = rdflib_to_networkx_multidigraph(g).to_undirected()\n",
    "\n",
    "    # 4. Check connected sub graphs of increasing size. If results were found, don't search for bigger sub graphs.\n",
    "    results_found = False\n",
    "    sub_graph_size = 2\n",
    "    while not results_found:\n",
    "        for sub_graph in (G.subgraph(selected_nodes) for selected_nodes in\n",
    "                          itertools.combinations(G, sub_graph_size)):\n",
    "            if nx.is_connected(sub_graph):\n",
    "                # 5A. Check if all question entities are contained in the sub graph\n",
    "                if all(elem in sub_graph.nodes for elem in question_entities):\n",
    "                    # 5B. Check if all question properties are contained in the sub graph\n",
    "                    if all(elem in [x[2] for x in sub_graph.edges] for elem in question_properties):\n",
    "                        print(\" Sub graph: \",\n",
    "                              ([str(x[0]) + \" \" + str(x[2]) + \" \" + str(x[1]) for x in sub_graph.edges]))\n",
    "                        # 6. Print those nodes which are not the named entities detected in the question\n",
    "                        print(\"-> Answer:\", [str(x) for x in set(sub_graph.nodes()).difference(question_entities)])\n",
    "                        results_found = True\n",
    "        sub_graph_size += 1"
   ]
  },
  {
   "cell_type": "markdown",
   "id": "ce711fa3",
   "metadata": {},
   "source": [
    "Test your system with the following questions."
   ]
  },
  {
   "cell_type": "code",
   "execution_count": 23,
   "id": "acad592889e39764",
   "metadata": {
    "ExecuteTime": {
     "end_time": "2023-12-17T23:47:31.881972Z",
     "start_time": "2023-12-17T23:47:31.502602Z"
    },
    "collapsed": false,
    "jupyter": {
     "outputs_hidden": false
    }
   },
   "outputs": [
    {
     "name": "stdout",
     "output_type": "stream",
     "text": [
      "\n",
      "Question: Who died in Berlin?\n",
      " Question properties: ['https://dbpedia.org/ontology/deathPlace']\n",
      "############### documnet entities ################\n",
      "(Berlin,)\n",
      " Question entities: ['https://dbpedia.org/resource/Berlin']\n",
      " Sub graph:  ['https://dbpedia.org/resource/Berlin https://dbpedia.org/ontology/deathPlace https://dbpedia.org/resource/Rosa_Luxemburg']\n",
      "-> Answer: ['https://dbpedia.org/resource/Rosa_Luxemburg']\n",
      "\n",
      "Question: Who died in Paris?\n",
      " Question properties: ['https://dbpedia.org/ontology/deathPlace']\n",
      "############### documnet entities ################\n",
      "(Paris,)\n",
      " Question entities: ['https://dbpedia.org/resource/Paris']\n",
      " Sub graph:  ['https://dbpedia.org/resource/Paris https://dbpedia.org/ontology/deathPlace https://dbpedia.org/resource/Marlene_Dietrich']\n",
      "-> Answer: ['https://dbpedia.org/resource/Marlene_Dietrich']\n",
      " Sub graph:  ['https://dbpedia.org/resource/Paris https://dbpedia.org/ontology/deathPlace https://dbpedia.org/resource/Oscar_Wilde']\n",
      "-> Answer: ['https://dbpedia.org/resource/Oscar_Wilde']\n",
      "\n",
      "Question: Who was born in the capital of Germany?\n",
      " Question properties: ['https://dbpedia.org/ontology/capital', 'https://dbpedia.org/ontology/birthPlace']\n",
      "############### documnet entities ################\n",
      "(Germany,)\n",
      " Question entities: ['https://dbpedia.org/resource/Germany']\n",
      " Sub graph:  ['https://dbpedia.org/resource/Germany https://dbpedia.org/ontology/capital https://dbpedia.org/resource/Berlin', 'https://dbpedia.org/resource/Berlin https://dbpedia.org/ontology/birthPlace https://dbpedia.org/resource/Marlene_Dietrich']\n",
      "-> Answer: ['https://dbpedia.org/resource/Berlin', 'https://dbpedia.org/resource/Marlene_Dietrich']\n",
      " Sub graph:  ['https://dbpedia.org/resource/Germany https://dbpedia.org/ontology/capital https://dbpedia.org/resource/Berlin', 'https://dbpedia.org/resource/Berlin https://dbpedia.org/ontology/birthPlace https://dbpedia.org/resource/Konrad_Zuse']\n",
      "-> Answer: ['https://dbpedia.org/resource/Berlin', 'https://dbpedia.org/resource/Konrad_Zuse']\n",
      "\n",
      "Question: Who was a partner of Marlene Dietrich?\n",
      " Question properties: ['https://dbpedia.org/ontology/partner']\n",
      "############### documnet entities ################\n",
      "(Marlene Dietrich,)\n",
      " Question entities: ['https://dbpedia.org/resource/Marlene_Dietrich']\n",
      " Sub graph:  ['https://dbpedia.org/resource/John_F._Kennedy https://dbpedia.org/ontology/partner https://dbpedia.org/resource/Marlene_Dietrich']\n",
      "-> Answer: ['https://dbpedia.org/resource/John_F._Kennedy']\n",
      "\n",
      "Question: Who was a partner of someone who died in the capital of France?\n",
      " Question properties: ['https://dbpedia.org/ontology/capital', 'https://dbpedia.org/ontology/deathPlace', 'https://dbpedia.org/ontology/partner']\n",
      "############### documnet entities ################\n",
      "(France,)\n",
      " Question entities: ['https://dbpedia.org/resource/France']\n",
      " Sub graph:  ['https://dbpedia.org/resource/France https://dbpedia.org/ontology/capital https://dbpedia.org/resource/Paris', 'https://dbpedia.org/resource/Paris https://dbpedia.org/ontology/deathPlace https://dbpedia.org/resource/Marlene_Dietrich', 'https://dbpedia.org/resource/John_F._Kennedy https://dbpedia.org/ontology/partner https://dbpedia.org/resource/Marlene_Dietrich']\n",
      "-> Answer: ['https://dbpedia.org/resource/Paris', 'https://dbpedia.org/resource/John_F._Kennedy', 'https://dbpedia.org/resource/Marlene_Dietrich']\n"
     ]
    }
   ],
   "source": [
    "get_answer('Who died in Berlin?')\n",
    "get_answer('Who died in Paris?')\n",
    "get_answer('Who was born in the capital of Germany?')\n",
    "get_answer('Who was a partner of Marlene Dietrich?')\n",
    "get_answer('Who was a partner of someone who died in the capital of France?')"
   ]
  }
 ],
 "metadata": {
  "kernelspec": {
   "display_name": "Python 3",
   "language": "python",
   "name": "python3"
  },
  "language_info": {
   "codemirror_mode": {
    "name": "ipython",
    "version": 3
   },
   "file_extension": ".py",
   "mimetype": "text/x-python",
   "name": "python",
   "nbconvert_exporter": "python",
   "pygments_lexer": "ipython3",
   "version": "3.9.13"
  }
 },
 "nbformat": 4,
 "nbformat_minor": 5
}
