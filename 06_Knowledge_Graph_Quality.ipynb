{
 "cells": [
  {
   "cell_type": "markdown",
   "id": "3b94399ef6b7684d",
   "metadata": {
    "collapsed": false
   },
   "source": [
    "Exercise 6\n",
    "\n",
    "### Knowledge Graph Quality\n",
    "\n",
    "The following file holds Task 2 from Exercise 6. In this notebook, SHACL is required in order to complete tasks. For coding part, PySHACL is used in order for shape validation.\n",
    "Make sure PySHACL library is installed.\n",
    " \n",
    "For more reference: \n",
    "- [SHACL - W3C Documentation](https://www.w3.org/TR/shacl/)\n",
    "- [PySHACL - GitHub](https://github.com/RDFLib/pySHACL)"
   ]
  },
  {
   "cell_type": "code",
   "execution_count": 2,
   "id": "ce71dfb4",
   "metadata": {},
   "outputs": [],
   "source": [
    "from IPython.display import clear_output"
   ]
  },
  {
   "cell_type": "code",
   "execution_count": 3,
   "id": "819d083e0c962425",
   "metadata": {
    "collapsed": false
   },
   "outputs": [],
   "source": [
    "# Run the cell to install PySHACL\n",
    "!pip install pyshacl rdflib\n",
    "clear_output()"
   ]
  },
  {
   "cell_type": "markdown",
   "id": "f478c2affa076065",
   "metadata": {
    "collapsed": false
   },
   "source": [
    "### Task 2\n",
    "\n",
    "Import the defined shapes in given 'supplier.ttl' file using rdflib and validate the given following graphs are valid or not. Print the validation results and report if validation fails."
   ]
  },
  {
   "cell_type": "code",
   "execution_count": 8,
   "id": "6197dbcdc653d84c",
   "metadata": {
    "collapsed": false
   },
   "outputs": [],
   "source": [
    "# Import required libraries\n",
    "from pyshacl import validate\n",
    "from rdflib import Graph, Namespace\n"
   ]
  },
  {
   "cell_type": "code",
   "execution_count": 5,
   "id": "76274ba9",
   "metadata": {},
   "outputs": [
    {
     "data": {
      "text/plain": [
       "<Graph identifier=N3c66523edb984479bdaf3fa76c38c46d (<class 'rdflib.graph.Graph'>)>"
      ]
     },
     "execution_count": 5,
     "metadata": {},
     "output_type": "execute_result"
    }
   ],
   "source": [
    "# load supplier.ttl\n",
    "g = rdflib.Graph()\n",
    "g.parse('data/supplier.ttl', format='ttl')"
   ]
  },
  {
   "cell_type": "code",
   "execution_count": 17,
   "id": "6818985f",
   "metadata": {},
   "outputs": [],
   "source": [
    "def validate_graph(graph_data):\n",
    "    data_graph = Graph()\n",
    "    data_graph.parse(data=graph_data, format='ttl')\n",
    "    # Define the ontology graph (replace with your actual ontology graph)\n",
    "    ont_graph = Graph()\n",
    "    ont_graph_data = '''\n",
    "    # Add your SHACL shapes or ontology data here\n",
    "    '''\n",
    "    ont_graph.parse(data=ont_graph_data, format='turtle')\n",
    "\n",
    "    # Validate the RDF graph\n",
    "    r1 = validate(data_graph, shacl_graph=ont_graph, inference='rdfs', debug=True)\n",
    "\n",
    "    # Unpack results\n",
    "    conforms, results_graph, results_text = r1\n",
    "\n",
    "    # Print validation results\n",
    "    print(f\"Conforms: {conforms}\")\n",
    "    print(\"Validation results text:\")\n",
    "    print(results_text)"
   ]
  },
  {
   "cell_type": "code",
   "execution_count": 18,
   "id": "d6e8af4ccf1ba2c5",
   "metadata": {
    "collapsed": false
   },
   "outputs": [
    {
     "name": "stderr",
     "output_type": "stream",
     "text": [
      "Cloning DataGraph to temporary memory graph before pre-inferencing.\n",
      "Running pre-inferencing with option='rdfs'.\n",
      "Found 0 SHACL Shapes defined with type sh:NodeShape.\n",
      "Found 0 SHACL Shapes defined with type sh:PropertyShape.\n",
      "Found 0 property paths to follow.\n",
      "Found 0 implied SHACL Shapes based on their properties.\n",
      "Found 0 implied SHACL Shapes used as values in shape-expecting constraints.\n",
      "Cached 0 unique NodeShapes and 0 unique PropertyShapes.\n",
      "Validating DataGraph named N5368e71ce08f4405bd3593688ea99be0\n"
     ]
    },
    {
     "name": "stdout",
     "output_type": "stream",
     "text": [
      "Conforms: True\n",
      "Validation results text:\n",
      "Validation Report\n",
      "Conforms: True\n",
      "\n"
     ]
    }
   ],
   "source": [
    "# Define the RDF graph as a string\n",
    "r1_graph_data = '''\n",
    "@prefix rdf: <http://www.w3.org/1999/02/22-rdf-syntax-ns#> .\n",
    "@prefix ex: <http://example.com/> .\n",
    "\n",
    "ex:Supplier1 rdf:type ex:Supplier ;\n",
    "    ex:supplierId 1 ;\n",
    "    ex:supplierName \"ABC Corp\" ;\n",
    "    ex:supplierLocation ex:supplierAddress .\n",
    "\n",
    "ex:supplierAddress rdf:type ex:Address ;\n",
    "    ex:addressId 101 ;\n",
    "    ex:street \"123 Main St\" ;\n",
    "    ex:city \"Cityville\" ;\n",
    "    ex:postalCode \"12345\" .\n",
    "'''\n",
    "\n",
    "validate_graph(r1_graph_data)"
   ]
  },
  {
   "cell_type": "code",
   "execution_count": 19,
   "id": "2c761e414691f32d",
   "metadata": {
    "collapsed": false
   },
   "outputs": [
    {
     "name": "stderr",
     "output_type": "stream",
     "text": [
      "Cloning DataGraph to temporary memory graph before pre-inferencing.\n",
      "Running pre-inferencing with option='rdfs'.\n",
      "Found 0 SHACL Shapes defined with type sh:NodeShape.\n",
      "Found 0 SHACL Shapes defined with type sh:PropertyShape.\n",
      "Found 0 property paths to follow.\n",
      "Found 0 implied SHACL Shapes based on their properties.\n",
      "Found 0 implied SHACL Shapes used as values in shape-expecting constraints.\n",
      "Cached 0 unique NodeShapes and 0 unique PropertyShapes.\n",
      "Validating DataGraph named Ne544ce1a70014f488a32f7479b4dc36d\n"
     ]
    },
    {
     "name": "stdout",
     "output_type": "stream",
     "text": [
      "Conforms: True\n",
      "Validation results text:\n",
      "Validation Report\n",
      "Conforms: True\n",
      "\n"
     ]
    }
   ],
   "source": [
    "r2_graph = '''\n",
    "@prefix rdf: <http://www.w3.org/1999/02/22-rdf-syntax-ns#> .\n",
    "@prefix ex: <http://example.com/> .\n",
    "\n",
    "ex:ValidEmployee rdf:type ex:Employee ;\n",
    "    ex:employeeId 201 ;\n",
    "    ex:employeeName \"John Doe\" ;\n",
    "    ex:employeeAddress ex:ValidAddress .\n",
    "'''\n",
    "\n",
    "validate_graph(r2_graph)"
   ]
  },
  {
   "cell_type": "code",
   "execution_count": 20,
   "id": "7d1b5a94f48352aa",
   "metadata": {
    "collapsed": false
   },
   "outputs": [
    {
     "name": "stderr",
     "output_type": "stream",
     "text": [
      "Cloning DataGraph to temporary memory graph before pre-inferencing.\n",
      "Running pre-inferencing with option='rdfs'.\n",
      "Found 0 SHACL Shapes defined with type sh:NodeShape.\n",
      "Found 0 SHACL Shapes defined with type sh:PropertyShape.\n",
      "Found 0 property paths to follow.\n",
      "Found 0 implied SHACL Shapes based on their properties.\n",
      "Found 0 implied SHACL Shapes used as values in shape-expecting constraints.\n",
      "Cached 0 unique NodeShapes and 0 unique PropertyShapes.\n",
      "Validating DataGraph named N91a4bfeeafff4c959384b7e6d73618a8\n"
     ]
    },
    {
     "name": "stdout",
     "output_type": "stream",
     "text": [
      "Conforms: True\n",
      "Validation results text:\n",
      "Validation Report\n",
      "Conforms: True\n",
      "\n"
     ]
    }
   ],
   "source": [
    "r3_graph = '''\n",
    "@prefix rdf: <http://www.w3.org/1999/02/22-rdf-syntax-ns#> .\n",
    "@prefix ex: <http://example.com/> .\n",
    "\n",
    "ex:Supplier2 rdf:type ex:Supplier ;\n",
    "    ex:supplierId 2 ;\n",
    "    ex:supplierName \"XYZ Ltd\" .\n",
    "\n",
    "ex:supplierAddress rdf:type ex:Address ;\n",
    "    ex:addressId 102 ;\n",
    "    ex:street \"456 Oak St\" ;\n",
    "    ex:city \"Townton\" .\n",
    "'''\n",
    "\n",
    "validate_graph(r3_graph)"
   ]
  },
  {
   "cell_type": "code",
   "execution_count": 21,
   "id": "435c8d3eff65d8f4",
   "metadata": {
    "collapsed": false
   },
   "outputs": [
    {
     "name": "stderr",
     "output_type": "stream",
     "text": [
      "Cloning DataGraph to temporary memory graph before pre-inferencing.\n",
      "Running pre-inferencing with option='rdfs'.\n",
      "Found 0 SHACL Shapes defined with type sh:NodeShape.\n",
      "Found 0 SHACL Shapes defined with type sh:PropertyShape.\n",
      "Found 0 property paths to follow.\n",
      "Found 0 implied SHACL Shapes based on their properties.\n",
      "Found 0 implied SHACL Shapes used as values in shape-expecting constraints.\n",
      "Cached 0 unique NodeShapes and 0 unique PropertyShapes.\n",
      "Validating DataGraph named N280e1286e47a4acca10e2bd1f63727c0\n"
     ]
    },
    {
     "name": "stdout",
     "output_type": "stream",
     "text": [
      "Conforms: True\n",
      "Validation results text:\n",
      "Validation Report\n",
      "Conforms: True\n",
      "\n"
     ]
    }
   ],
   "source": [
    "r4_graph = '''\n",
    "@prefix rdf: <http://www.w3.org/1999/02/22-rdf-syntax-ns#> .\n",
    "@prefix ex: <http://example.com/> .\n",
    "\n",
    "ex:employee1 rdf:type ex:Employee ;\n",
    "    ex:employeeId 202 ;\n",
    "    ex:employeeName \"Jane Smith\" .\n",
    "    \n",
    "ex:employee2 rdf:type ex:Employee ;\n",
    "    ex:employeeId \"404\" ;\n",
    "    ex:employeeName \"Adam Stain\" .\n",
    "'''\n",
    "\n",
    "validate_graph(r4_graph)\n"
   ]
  }
 ],
 "metadata": {
  "kernelspec": {
   "display_name": "Python 3",
   "language": "python",
   "name": "python3"
  },
  "language_info": {
   "codemirror_mode": {
    "name": "ipython",
    "version": 3
   },
   "file_extension": ".py",
   "mimetype": "text/x-python",
   "name": "python",
   "nbconvert_exporter": "python",
   "pygments_lexer": "ipython3",
   "version": "3.9.13"
  }
 },
 "nbformat": 4,
 "nbformat_minor": 5
}
